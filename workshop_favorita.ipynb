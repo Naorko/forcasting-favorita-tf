{
 "cells": [
  {
   "cell_type": "markdown",
   "metadata": {},
   "source": [
    "# Practical Deep Learning Workshop 2021\n",
    "## Assignment 2 - Part 2 - Embeddings\n",
    " \n",
    "### Authors:\n",
    " \n",
    "1.   Chen Doytshman 205644941\n",
    "2.   Naor Kolet 205533060\n"
   ]
  },
  {
   "cell_type": "markdown",
   "metadata": {},
   "source": [
    "# 0. Imports"
   ]
  },
  {
   "cell_type": "code",
   "execution_count": 1,
   "metadata": {},
   "outputs": [],
   "source": [
    "import pandas as pd\n",
    "import numpy as np\n",
    " \n",
    "# TensorFlow\n",
    "from tensorflow.keras.layers import Input, Embedding,Flatten, Concatenate,Dropout\n",
    "from tensorflow.keras.layers import BatchNormalization, Dense, LSTM\n",
    "from tensorflow.keras.callbacks import ModelCheckpoint, EarlyStopping, ReduceLROnPlateau\n",
    "from tensorflow.keras.regularizers import l2\n",
    "from tensorflow.keras.models import Model, Sequential, load_model\n",
    "from tensorflow.keras.optimizers import Adam\n",
    "import tensorflow as tf\n",
    "\n",
    "# Scikit-learn\n",
    "from sklearn.ensemble import RandomForestRegressor\n",
    "from sklearn.metrics import mean_squared_error, mean_absolute_error\n",
    "from sklearn.compose import make_column_transformer\n",
    "from sklearn.preprocessing import LabelEncoder\n",
    "\n",
    "# Plots\n",
    "import seaborn as sns\n",
    "import matplotlib.pyplot as plt\n",
    "\n",
    "# Misc.\n",
    "import os\n",
    "import joblib\n",
    "import datetime\n",
    "from tqdm import tqdm_notebook as tqdm\n",
    "from multiprocessing import cpu_count\n",
    "\n",
    "SEED = 42\n",
    "%matplotlib inline"
   ]
  },
  {
   "cell_type": "code",
   "execution_count": 2,
   "metadata": {},
   "outputs": [],
   "source": [
    "np.random.seed(SEED)\n",
    "tf.random.set_seed(SEED)"
   ]
  },
  {
   "cell_type": "code",
   "execution_count": 137,
   "metadata": {},
   "outputs": [
    {
     "data": {
      "application/vnd.jupyter.widget-view+json": {
       "model_id": "a9d340f103d548359b9ae2a197fc7fb4",
       "version_major": 2,
       "version_minor": 0
      },
      "text/plain": [
       "HBox(children=(IntProgress(value=1, bar_style='info', max=1), HTML(value='')))"
      ]
     },
     "metadata": {},
     "output_type": "display_data"
    },
    {
     "name": "stdout",
     "output_type": "stream",
     "text": [
      "\n"
     ]
    }
   ],
   "source": [
    "import py7zr\n",
    "\n",
    "files = [f for f in os.listdir('input') if f.endswith('7z')]\n",
    "for file in tqdm(files):\n",
    "    with py7zr.SevenZipFile(f'input/{file}') as zf:\n",
    "        zf.extractall('input')\n",
    "        os.remove(f'input/{file}')"
   ]
  },
  {
   "cell_type": "markdown",
   "metadata": {},
   "source": [
    "### 1.1 Data Description"
   ]
  },
  {
   "cell_type": "markdown",
   "metadata": {},
   "source": [
    "We will be predicting the unit sales for thousands of items sold at different Favorita stores located in Ecuador. The training data includes dates, store and item information, whether that item was being promoted, as well as the unit sales. Additional files include supplementary information that may be useful in building your models."
   ]
  },
  {
   "cell_type": "markdown",
   "metadata": {},
   "source": [
    "### 1.2 Data Load"
   ]
  },
  {
   "cell_type": "markdown",
   "metadata": {},
   "source": [
    "In this dataset we have several tables.\n",
    "We will focus on the train & test tables and stores and items tables which includes general features."
   ]
  },
  {
   "cell_type": "code",
   "execution_count": 3,
   "metadata": {},
   "outputs": [
    {
     "name": "stderr",
     "output_type": "stream",
     "text": [
      "/home/chendoy/.conda/envs/tf-env/lib/python3.8/site-packages/IPython/core/interactiveshell.py:3146: DtypeWarning: Columns (5) have mixed types.Specify dtype option on import or set low_memory=False.\n",
      "  has_raised = await self.run_ast_nodes(code_ast.body, cell_name,\n"
     ]
    },
    {
     "data": {
      "text/html": [
       "<div>\n",
       "<style scoped>\n",
       "    .dataframe tbody tr th:only-of-type {\n",
       "        vertical-align: middle;\n",
       "    }\n",
       "\n",
       "    .dataframe tbody tr th {\n",
       "        vertical-align: top;\n",
       "    }\n",
       "\n",
       "    .dataframe thead th {\n",
       "        text-align: right;\n",
       "    }\n",
       "</style>\n",
       "<table border=\"1\" class=\"dataframe\">\n",
       "  <thead>\n",
       "    <tr style=\"text-align: right;\">\n",
       "      <th></th>\n",
       "      <th>date</th>\n",
       "      <th>store_nbr</th>\n",
       "      <th>item_nbr</th>\n",
       "      <th>unit_sales</th>\n",
       "      <th>onpromotion</th>\n",
       "    </tr>\n",
       "    <tr>\n",
       "      <th>id</th>\n",
       "      <th></th>\n",
       "      <th></th>\n",
       "      <th></th>\n",
       "      <th></th>\n",
       "      <th></th>\n",
       "    </tr>\n",
       "  </thead>\n",
       "  <tbody>\n",
       "    <tr>\n",
       "      <th>0</th>\n",
       "      <td>2013-01-01</td>\n",
       "      <td>25</td>\n",
       "      <td>103665</td>\n",
       "      <td>7.0</td>\n",
       "      <td>NaN</td>\n",
       "    </tr>\n",
       "    <tr>\n",
       "      <th>1</th>\n",
       "      <td>2013-01-01</td>\n",
       "      <td>25</td>\n",
       "      <td>105574</td>\n",
       "      <td>1.0</td>\n",
       "      <td>NaN</td>\n",
       "    </tr>\n",
       "    <tr>\n",
       "      <th>2</th>\n",
       "      <td>2013-01-01</td>\n",
       "      <td>25</td>\n",
       "      <td>105575</td>\n",
       "      <td>2.0</td>\n",
       "      <td>NaN</td>\n",
       "    </tr>\n",
       "    <tr>\n",
       "      <th>3</th>\n",
       "      <td>2013-01-01</td>\n",
       "      <td>25</td>\n",
       "      <td>108079</td>\n",
       "      <td>1.0</td>\n",
       "      <td>NaN</td>\n",
       "    </tr>\n",
       "    <tr>\n",
       "      <th>4</th>\n",
       "      <td>2013-01-01</td>\n",
       "      <td>25</td>\n",
       "      <td>108701</td>\n",
       "      <td>1.0</td>\n",
       "      <td>NaN</td>\n",
       "    </tr>\n",
       "    <tr>\n",
       "      <th>...</th>\n",
       "      <td>...</td>\n",
       "      <td>...</td>\n",
       "      <td>...</td>\n",
       "      <td>...</td>\n",
       "      <td>...</td>\n",
       "    </tr>\n",
       "    <tr>\n",
       "      <th>125497035</th>\n",
       "      <td>2017-08-15</td>\n",
       "      <td>54</td>\n",
       "      <td>2089339</td>\n",
       "      <td>4.0</td>\n",
       "      <td>False</td>\n",
       "    </tr>\n",
       "    <tr>\n",
       "      <th>125497036</th>\n",
       "      <td>2017-08-15</td>\n",
       "      <td>54</td>\n",
       "      <td>2106464</td>\n",
       "      <td>1.0</td>\n",
       "      <td>True</td>\n",
       "    </tr>\n",
       "    <tr>\n",
       "      <th>125497037</th>\n",
       "      <td>2017-08-15</td>\n",
       "      <td>54</td>\n",
       "      <td>2110456</td>\n",
       "      <td>192.0</td>\n",
       "      <td>False</td>\n",
       "    </tr>\n",
       "    <tr>\n",
       "      <th>125497038</th>\n",
       "      <td>2017-08-15</td>\n",
       "      <td>54</td>\n",
       "      <td>2113914</td>\n",
       "      <td>198.0</td>\n",
       "      <td>True</td>\n",
       "    </tr>\n",
       "    <tr>\n",
       "      <th>125497039</th>\n",
       "      <td>2017-08-15</td>\n",
       "      <td>54</td>\n",
       "      <td>2116416</td>\n",
       "      <td>2.0</td>\n",
       "      <td>False</td>\n",
       "    </tr>\n",
       "  </tbody>\n",
       "</table>\n",
       "<p>125497040 rows × 5 columns</p>\n",
       "</div>"
      ],
      "text/plain": [
       "                date  store_nbr  item_nbr  unit_sales onpromotion\n",
       "id                                                               \n",
       "0         2013-01-01         25    103665         7.0         NaN\n",
       "1         2013-01-01         25    105574         1.0         NaN\n",
       "2         2013-01-01         25    105575         2.0         NaN\n",
       "3         2013-01-01         25    108079         1.0         NaN\n",
       "4         2013-01-01         25    108701         1.0         NaN\n",
       "...              ...        ...       ...         ...         ...\n",
       "125497035 2017-08-15         54   2089339         4.0       False\n",
       "125497036 2017-08-15         54   2106464         1.0        True\n",
       "125497037 2017-08-15         54   2110456       192.0       False\n",
       "125497038 2017-08-15         54   2113914       198.0        True\n",
       "125497039 2017-08-15         54   2116416         2.0       False\n",
       "\n",
       "[125497040 rows x 5 columns]"
      ]
     },
     "execution_count": 3,
     "metadata": {},
     "output_type": "execute_result"
    }
   ],
   "source": [
    "train = pd.read_csv('input/train.csv', parse_dates=['date'])\n",
    "train.date = train.date.astype('datetime64')\n",
    "train.set_index('id', inplace=True)\n",
    "train"
   ]
  },
  {
   "cell_type": "code",
   "execution_count": 4,
   "metadata": {},
   "outputs": [
    {
     "data": {
      "text/html": [
       "<div>\n",
       "<style scoped>\n",
       "    .dataframe tbody tr th:only-of-type {\n",
       "        vertical-align: middle;\n",
       "    }\n",
       "\n",
       "    .dataframe tbody tr th {\n",
       "        vertical-align: top;\n",
       "    }\n",
       "\n",
       "    .dataframe thead th {\n",
       "        text-align: right;\n",
       "    }\n",
       "</style>\n",
       "<table border=\"1\" class=\"dataframe\">\n",
       "  <thead>\n",
       "    <tr style=\"text-align: right;\">\n",
       "      <th></th>\n",
       "      <th>store_nbr</th>\n",
       "      <th>city</th>\n",
       "      <th>state</th>\n",
       "      <th>type</th>\n",
       "      <th>cluster</th>\n",
       "    </tr>\n",
       "  </thead>\n",
       "  <tbody>\n",
       "    <tr>\n",
       "      <th>19</th>\n",
       "      <td>20</td>\n",
       "      <td>Quito</td>\n",
       "      <td>Pichincha</td>\n",
       "      <td>B</td>\n",
       "      <td>6</td>\n",
       "    </tr>\n",
       "    <tr>\n",
       "      <th>49</th>\n",
       "      <td>50</td>\n",
       "      <td>Ambato</td>\n",
       "      <td>Tungurahua</td>\n",
       "      <td>A</td>\n",
       "      <td>14</td>\n",
       "    </tr>\n",
       "    <tr>\n",
       "      <th>48</th>\n",
       "      <td>49</td>\n",
       "      <td>Quito</td>\n",
       "      <td>Pichincha</td>\n",
       "      <td>A</td>\n",
       "      <td>11</td>\n",
       "    </tr>\n",
       "    <tr>\n",
       "      <th>12</th>\n",
       "      <td>13</td>\n",
       "      <td>Latacunga</td>\n",
       "      <td>Cotopaxi</td>\n",
       "      <td>C</td>\n",
       "      <td>15</td>\n",
       "    </tr>\n",
       "    <tr>\n",
       "      <th>44</th>\n",
       "      <td>45</td>\n",
       "      <td>Quito</td>\n",
       "      <td>Pichincha</td>\n",
       "      <td>A</td>\n",
       "      <td>11</td>\n",
       "    </tr>\n",
       "  </tbody>\n",
       "</table>\n",
       "</div>"
      ],
      "text/plain": [
       "    store_nbr       city       state type  cluster\n",
       "19         20      Quito   Pichincha    B        6\n",
       "49         50     Ambato  Tungurahua    A       14\n",
       "48         49      Quito   Pichincha    A       11\n",
       "12         13  Latacunga    Cotopaxi    C       15\n",
       "44         45      Quito   Pichincha    A       11"
      ]
     },
     "execution_count": 4,
     "metadata": {},
     "output_type": "execute_result"
    }
   ],
   "source": [
    "stores = pd.read_csv('input/stores.csv')#, index_col='store_nbr')\n",
    "stores.sample(5)"
   ]
  },
  {
   "cell_type": "code",
   "execution_count": 5,
   "metadata": {},
   "outputs": [
    {
     "data": {
      "text/html": [
       "<div>\n",
       "<style scoped>\n",
       "    .dataframe tbody tr th:only-of-type {\n",
       "        vertical-align: middle;\n",
       "    }\n",
       "\n",
       "    .dataframe tbody tr th {\n",
       "        vertical-align: top;\n",
       "    }\n",
       "\n",
       "    .dataframe thead th {\n",
       "        text-align: right;\n",
       "    }\n",
       "</style>\n",
       "<table border=\"1\" class=\"dataframe\">\n",
       "  <thead>\n",
       "    <tr style=\"text-align: right;\">\n",
       "      <th></th>\n",
       "      <th>item_nbr</th>\n",
       "      <th>family</th>\n",
       "      <th>class</th>\n",
       "      <th>perishable</th>\n",
       "    </tr>\n",
       "  </thead>\n",
       "  <tbody>\n",
       "    <tr>\n",
       "      <th>2083</th>\n",
       "      <td>1323422</td>\n",
       "      <td>GROCERY I</td>\n",
       "      <td>1003</td>\n",
       "      <td>0</td>\n",
       "    </tr>\n",
       "    <tr>\n",
       "      <th>1965</th>\n",
       "      <td>1239901</td>\n",
       "      <td>POULTRY</td>\n",
       "      <td>2420</td>\n",
       "      <td>1</td>\n",
       "    </tr>\n",
       "    <tr>\n",
       "      <th>1582</th>\n",
       "      <td>1091365</td>\n",
       "      <td>GROCERY I</td>\n",
       "      <td>1016</td>\n",
       "      <td>0</td>\n",
       "    </tr>\n",
       "    <tr>\n",
       "      <th>296</th>\n",
       "      <td>311994</td>\n",
       "      <td>BREAD/BAKERY</td>\n",
       "      <td>2752</td>\n",
       "      <td>1</td>\n",
       "    </tr>\n",
       "    <tr>\n",
       "      <th>149</th>\n",
       "      <td>210798</td>\n",
       "      <td>GROCERY I</td>\n",
       "      <td>1074</td>\n",
       "      <td>0</td>\n",
       "    </tr>\n",
       "  </tbody>\n",
       "</table>\n",
       "</div>"
      ],
      "text/plain": [
       "      item_nbr        family  class  perishable\n",
       "2083   1323422     GROCERY I   1003           0\n",
       "1965   1239901       POULTRY   2420           1\n",
       "1582   1091365     GROCERY I   1016           0\n",
       "296     311994  BREAD/BAKERY   2752           1\n",
       "149     210798     GROCERY I   1074           0"
      ]
     },
     "execution_count": 5,
     "metadata": {},
     "output_type": "execute_result"
    }
   ],
   "source": [
    "items = pd.read_csv('input/items.csv')#, index_col='item_nbr')\n",
    "items.sample(5)"
   ]
  },
  {
   "cell_type": "code",
   "execution_count": 142,
   "metadata": {},
   "outputs": [
    {
     "data": {
      "text/html": [
       "<div>\n",
       "<style scoped>\n",
       "    .dataframe tbody tr th:only-of-type {\n",
       "        vertical-align: middle;\n",
       "    }\n",
       "\n",
       "    .dataframe tbody tr th {\n",
       "        vertical-align: top;\n",
       "    }\n",
       "\n",
       "    .dataframe thead th {\n",
       "        text-align: right;\n",
       "    }\n",
       "</style>\n",
       "<table border=\"1\" class=\"dataframe\">\n",
       "  <thead>\n",
       "    <tr style=\"text-align: right;\">\n",
       "      <th></th>\n",
       "      <th>date</th>\n",
       "      <th>store_nbr</th>\n",
       "      <th>item_nbr</th>\n",
       "      <th>onpromotion</th>\n",
       "    </tr>\n",
       "    <tr>\n",
       "      <th>id</th>\n",
       "      <th></th>\n",
       "      <th></th>\n",
       "      <th></th>\n",
       "      <th></th>\n",
       "    </tr>\n",
       "  </thead>\n",
       "  <tbody>\n",
       "    <tr>\n",
       "      <th>125497040</th>\n",
       "      <td>2017-08-16</td>\n",
       "      <td>1</td>\n",
       "      <td>96995</td>\n",
       "      <td>False</td>\n",
       "    </tr>\n",
       "    <tr>\n",
       "      <th>125497041</th>\n",
       "      <td>2017-08-16</td>\n",
       "      <td>1</td>\n",
       "      <td>99197</td>\n",
       "      <td>False</td>\n",
       "    </tr>\n",
       "    <tr>\n",
       "      <th>125497042</th>\n",
       "      <td>2017-08-16</td>\n",
       "      <td>1</td>\n",
       "      <td>103501</td>\n",
       "      <td>False</td>\n",
       "    </tr>\n",
       "    <tr>\n",
       "      <th>125497043</th>\n",
       "      <td>2017-08-16</td>\n",
       "      <td>1</td>\n",
       "      <td>103520</td>\n",
       "      <td>False</td>\n",
       "    </tr>\n",
       "    <tr>\n",
       "      <th>125497044</th>\n",
       "      <td>2017-08-16</td>\n",
       "      <td>1</td>\n",
       "      <td>103665</td>\n",
       "      <td>False</td>\n",
       "    </tr>\n",
       "    <tr>\n",
       "      <th>...</th>\n",
       "      <td>...</td>\n",
       "      <td>...</td>\n",
       "      <td>...</td>\n",
       "      <td>...</td>\n",
       "    </tr>\n",
       "    <tr>\n",
       "      <th>128867499</th>\n",
       "      <td>2017-08-31</td>\n",
       "      <td>54</td>\n",
       "      <td>2132163</td>\n",
       "      <td>False</td>\n",
       "    </tr>\n",
       "    <tr>\n",
       "      <th>128867500</th>\n",
       "      <td>2017-08-31</td>\n",
       "      <td>54</td>\n",
       "      <td>2132318</td>\n",
       "      <td>False</td>\n",
       "    </tr>\n",
       "    <tr>\n",
       "      <th>128867501</th>\n",
       "      <td>2017-08-31</td>\n",
       "      <td>54</td>\n",
       "      <td>2132945</td>\n",
       "      <td>False</td>\n",
       "    </tr>\n",
       "    <tr>\n",
       "      <th>128867502</th>\n",
       "      <td>2017-08-31</td>\n",
       "      <td>54</td>\n",
       "      <td>2132957</td>\n",
       "      <td>False</td>\n",
       "    </tr>\n",
       "    <tr>\n",
       "      <th>128867503</th>\n",
       "      <td>2017-08-31</td>\n",
       "      <td>54</td>\n",
       "      <td>2134244</td>\n",
       "      <td>False</td>\n",
       "    </tr>\n",
       "  </tbody>\n",
       "</table>\n",
       "<p>3370464 rows × 4 columns</p>\n",
       "</div>"
      ],
      "text/plain": [
       "                date  store_nbr  item_nbr  onpromotion\n",
       "id                                                    \n",
       "125497040 2017-08-16          1     96995        False\n",
       "125497041 2017-08-16          1     99197        False\n",
       "125497042 2017-08-16          1    103501        False\n",
       "125497043 2017-08-16          1    103520        False\n",
       "125497044 2017-08-16          1    103665        False\n",
       "...              ...        ...       ...          ...\n",
       "128867499 2017-08-31         54   2132163        False\n",
       "128867500 2017-08-31         54   2132318        False\n",
       "128867501 2017-08-31         54   2132945        False\n",
       "128867502 2017-08-31         54   2132957        False\n",
       "128867503 2017-08-31         54   2134244        False\n",
       "\n",
       "[3370464 rows x 4 columns]"
      ]
     },
     "execution_count": 142,
     "metadata": {},
     "output_type": "execute_result"
    }
   ],
   "source": [
    "test = pd.read_csv('input/test.csv', parse_dates=['date'])\n",
    "test.date = test.date.astype('datetime64')\n",
    "test.set_index('id', inplace=True)\n",
    "test"
   ]
  },
  {
   "cell_type": "markdown",
   "metadata": {},
   "source": [
    "### 1.3 Preprocessing\n",
    "\n",
    "We have several issues to direct in this step.\n",
    "1. ```onpromotion``` field contains null values, we will consider them as False values\n",
    "2. ```store_nbr```, ```item_nbr``` and ```onpromotion``` fields are categorical features - we will use LabelEncoder in order to convert the to indexed values (Also needed as preprocessing for Embeddings layers)"
   ]
  },
  {
   "cell_type": "code",
   "execution_count": 6,
   "metadata": {},
   "outputs": [],
   "source": [
    "store_enc = LabelEncoder().fit(stores.store_nbr)\n",
    "item_enc = LabelEncoder().fit(items.item_nbr)\n",
    "prom_enc = LabelEncoder().fit([True, False])"
   ]
  },
  {
   "cell_type": "code",
   "execution_count": 7,
   "metadata": {},
   "outputs": [],
   "source": [
    "def preprocess(df):\n",
    "    df.onpromotion.fillna(False, inplace=True)\n",
    "    df.store_nbr = store_enc.transform(df.store_nbr)\n",
    "    df.item_nbr = item_enc.transform(df.item_nbr)\n",
    "    df.onpromotion = prom_enc.transform(df.onpromotion)"
   ]
  },
  {
   "cell_type": "code",
   "execution_count": 8,
   "metadata": {},
   "outputs": [],
   "source": [
    "preprocess(train)"
   ]
  },
  {
   "cell_type": "code",
   "execution_count": 145,
   "metadata": {},
   "outputs": [],
   "source": [
    "preprocess(test)"
   ]
  },
  {
   "cell_type": "markdown",
   "metadata": {},
   "source": [
    "Due to technical issues and guessing that data that is to far in the past we will only train on the last year."
   ]
  },
  {
   "cell_type": "code",
   "execution_count": 9,
   "metadata": {},
   "outputs": [],
   "source": [
    "df_2017 = train.loc[train.date >= datetime.datetime(2017,1,1)][['store_nbr', 'item_nbr', 'onpromotion', 'unit_sales']]"
   ]
  },
  {
   "cell_type": "code",
   "execution_count": 152,
   "metadata": {},
   "outputs": [
    {
     "data": {
      "text/html": [
       "<div>\n",
       "<style scoped>\n",
       "    .dataframe tbody tr th:only-of-type {\n",
       "        vertical-align: middle;\n",
       "    }\n",
       "\n",
       "    .dataframe tbody tr th {\n",
       "        vertical-align: top;\n",
       "    }\n",
       "\n",
       "    .dataframe thead th {\n",
       "        text-align: right;\n",
       "    }\n",
       "</style>\n",
       "<table border=\"1\" class=\"dataframe\">\n",
       "  <thead>\n",
       "    <tr style=\"text-align: right;\">\n",
       "      <th></th>\n",
       "      <th>store_nbr</th>\n",
       "      <th>item_nbr</th>\n",
       "      <th>onpromotion</th>\n",
       "      <th>unit_sales</th>\n",
       "    </tr>\n",
       "    <tr>\n",
       "      <th>id</th>\n",
       "      <th></th>\n",
       "      <th></th>\n",
       "      <th></th>\n",
       "      <th></th>\n",
       "    </tr>\n",
       "  </thead>\n",
       "  <tbody>\n",
       "    <tr>\n",
       "      <th>101688779</th>\n",
       "      <td>24</td>\n",
       "      <td>1</td>\n",
       "      <td>0</td>\n",
       "      <td>1.0</td>\n",
       "    </tr>\n",
       "    <tr>\n",
       "      <th>101688780</th>\n",
       "      <td>24</td>\n",
       "      <td>4</td>\n",
       "      <td>0</td>\n",
       "      <td>7.0</td>\n",
       "    </tr>\n",
       "    <tr>\n",
       "      <th>101688781</th>\n",
       "      <td>24</td>\n",
       "      <td>5</td>\n",
       "      <td>0</td>\n",
       "      <td>1.0</td>\n",
       "    </tr>\n",
       "    <tr>\n",
       "      <th>101688782</th>\n",
       "      <td>24</td>\n",
       "      <td>11</td>\n",
       "      <td>0</td>\n",
       "      <td>4.0</td>\n",
       "    </tr>\n",
       "    <tr>\n",
       "      <th>101688783</th>\n",
       "      <td>24</td>\n",
       "      <td>12</td>\n",
       "      <td>0</td>\n",
       "      <td>2.0</td>\n",
       "    </tr>\n",
       "    <tr>\n",
       "      <th>...</th>\n",
       "      <td>...</td>\n",
       "      <td>...</td>\n",
       "      <td>...</td>\n",
       "      <td>...</td>\n",
       "    </tr>\n",
       "    <tr>\n",
       "      <th>125497035</th>\n",
       "      <td>53</td>\n",
       "      <td>3990</td>\n",
       "      <td>0</td>\n",
       "      <td>4.0</td>\n",
       "    </tr>\n",
       "    <tr>\n",
       "      <th>125497036</th>\n",
       "      <td>53</td>\n",
       "      <td>3998</td>\n",
       "      <td>1</td>\n",
       "      <td>1.0</td>\n",
       "    </tr>\n",
       "    <tr>\n",
       "      <th>125497037</th>\n",
       "      <td>53</td>\n",
       "      <td>4003</td>\n",
       "      <td>0</td>\n",
       "      <td>192.0</td>\n",
       "    </tr>\n",
       "    <tr>\n",
       "      <th>125497038</th>\n",
       "      <td>53</td>\n",
       "      <td>4013</td>\n",
       "      <td>1</td>\n",
       "      <td>198.0</td>\n",
       "    </tr>\n",
       "    <tr>\n",
       "      <th>125497039</th>\n",
       "      <td>53</td>\n",
       "      <td>4020</td>\n",
       "      <td>0</td>\n",
       "      <td>2.0</td>\n",
       "    </tr>\n",
       "  </tbody>\n",
       "</table>\n",
       "<p>23808261 rows × 4 columns</p>\n",
       "</div>"
      ],
      "text/plain": [
       "           store_nbr  item_nbr  onpromotion  unit_sales\n",
       "id                                                     \n",
       "101688779         24         1            0         1.0\n",
       "101688780         24         4            0         7.0\n",
       "101688781         24         5            0         1.0\n",
       "101688782         24        11            0         4.0\n",
       "101688783         24        12            0         2.0\n",
       "...              ...       ...          ...         ...\n",
       "125497035         53      3990            0         4.0\n",
       "125497036         53      3998            1         1.0\n",
       "125497037         53      4003            0       192.0\n",
       "125497038         53      4013            1       198.0\n",
       "125497039         53      4020            0         2.0\n",
       "\n",
       "[23808261 rows x 4 columns]"
      ]
     },
     "execution_count": 152,
     "metadata": {},
     "output_type": "execute_result"
    }
   ],
   "source": [
    "df_2017"
   ]
  },
  {
   "cell_type": "markdown",
   "metadata": {},
   "source": [
    "## b. Solid Benchmark - Random Forest Regressor\n",
    "\n",
    "In this section we will use Random Forest Regressor in order to make a basic solid benchmark."
   ]
  },
  {
   "cell_type": "markdown",
   "metadata": {},
   "source": [
    "We will use the three features mentioned earlier ```store_nbr```, ```item_nbr``` and ```onpromotion``` to predict the ```unit_sales```"
   ]
  },
  {
   "cell_type": "code",
   "execution_count": 153,
   "metadata": {},
   "outputs": [],
   "source": [
    "def split_x_y(df=None, load_name=None, has_y=True):\n",
    "    y = None\n",
    "    if df is not None:\n",
    "        x = df[['store_nbr', 'item_nbr', 'onpromotion']].values\n",
    "        joblib.dump(x, f'objects/{load_name}_x.sav')\n",
    "        if has_y:\n",
    "            y = df['unit_sales'].values\n",
    "            joblib.dump(y, f'objects/{load_name}_y.sav')\n",
    "    else:\n",
    "        x = joblib.load(f'objects/{load_name}_x.sav')\n",
    "        if has_y:\n",
    "            y = joblib.load(f'objects/{load_name}_y.sav')\n",
    "    \n",
    "    if has_y:\n",
    "        return x, y\n",
    "    return x"
   ]
  },
  {
   "cell_type": "code",
   "execution_count": 154,
   "metadata": {},
   "outputs": [],
   "source": [
    "train_x, train_y = split_x_y(df=df_2017, load_name='train')"
   ]
  },
  {
   "cell_type": "code",
   "execution_count": 146,
   "metadata": {},
   "outputs": [],
   "source": [
    "use_saved = True\n",
    "rfr_path = 'models/rfr.sav'\n",
    "\n",
    "if use_saved:\n",
    "    rfr = joblib.load(rfr_path)\n",
    "else:\n",
    "    rfr = RandomForestRegressor(random_state=SEED, verbose=1, n_jobs=cpu_count())\n",
    "    rfr.fit(train_x, train_y)\n",
    "    joblib.dump(rfr, rfr_path)"
   ]
  },
  {
   "cell_type": "markdown",
   "metadata": {},
   "source": [
    "#### Evaluation"
   ]
  },
  {
   "cell_type": "code",
   "execution_count": 155,
   "metadata": {},
   "outputs": [
    {
     "name": "stderr",
     "output_type": "stream",
     "text": [
      "[Parallel(n_jobs=32)]: Using backend ThreadingBackend with 32 concurrent workers.\n",
      "[Parallel(n_jobs=32)]: Done 100 out of 100 | elapsed:  2.7min finished\n"
     ]
    },
    {
     "name": "stdout",
     "output_type": "stream",
     "text": [
      "Got score of 0.4933 according to the random forest score function on the train\n"
     ]
    }
   ],
   "source": [
    "train_score = rfr.score(train_x, train_y)\n",
    "print(f'Got score of {train_score:.4f} according to the random forest score function on the train')"
   ]
  },
  {
   "cell_type": "code",
   "execution_count": 156,
   "metadata": {},
   "outputs": [
    {
     "name": "stderr",
     "output_type": "stream",
     "text": [
      "[Parallel(n_jobs=32)]: Using backend ThreadingBackend with 32 concurrent workers.\n",
      "[Parallel(n_jobs=32)]: Done 100 out of 100 | elapsed:  2.2min finished\n"
     ]
    },
    {
     "name": "stdout",
     "output_type": "stream",
     "text": [
      "Got MAE of 3.8110 on the train\n"
     ]
    }
   ],
   "source": [
    "train_y_pred = rfr.predict(train_x)\n",
    "train_mae = mean_absolute_error(train_y, train_y_pred)\n",
    "print(f'Got MAE of {train_mae:.4f} on the train')"
   ]
  },
  {
   "cell_type": "markdown",
   "metadata": {},
   "source": [
    "Generating results of the test to submit to kaggle"
   ]
  },
  {
   "cell_type": "code",
   "execution_count": 157,
   "metadata": {},
   "outputs": [
    {
     "name": "stderr",
     "output_type": "stream",
     "text": [
      "[Parallel(n_jobs=32)]: Using backend ThreadingBackend with 32 concurrent workers.\n",
      "[Parallel(n_jobs=32)]: Done 100 out of 100 | elapsed:   16.1s finished\n"
     ]
    }
   ],
   "source": [
    "test_x = test[['store_nbr', 'item_nbr', 'onpromotion']].values\n",
    "test_y_pred = rfr.predict(test_x)"
   ]
  },
  {
   "cell_type": "code",
   "execution_count": 158,
   "metadata": {},
   "outputs": [],
   "source": [
    "def create_submission(y_pred, name='submit'):\n",
    "    sub = pd.read_csv('input/sample_submission.csv')\n",
    "    sub.set_index('id', inplace=True)\n",
    "    sub['unit_sales'] = y_pred\n",
    "    # Kaggle do not accept negative values, so if such values exist; we will zero them\n",
    "    sub[sub['unit_sales'] < 0] = 0\n",
    "    sub.to_csv(f'results/{name}.csv')"
   ]
  },
  {
   "cell_type": "code",
   "execution_count": 176,
   "metadata": {},
   "outputs": [],
   "source": [
    "create_submission(test_y_pred, 'rfr')"
   ]
  },
  {
   "attachments": {
    "7002b6a7-f0fa-44e5-a7e6-b69ddf27d825.jpeg": {
     "image/jpeg": "[encoded data removed]"
    }
   },
   "cell_type": "markdown",
   "metadata": {},
   "source": [
    "![rfr.jpeg](attachment:7002b6a7-f0fa-44e5-a7e6-b69ddf27d825.jpeg)"
   ]
  },
  {
   "cell_type": "markdown",
   "metadata": {},
   "source": [
    "## c. Preprocessing Steps to Create an Embedding "
   ]
  },
  {
   "cell_type": "markdown",
   "metadata": {},
   "source": [
    "Please refer to the section 1.3 preprocessing as no fmore preprocessing are needed for the task as we already indexed the features we want to feed to the Embeddings layers."
   ]
  },
  {
   "cell_type": "markdown",
   "metadata": {},
   "source": [
    "## d. Predicting the target using only the features embeddings "
   ]
  },
  {
   "cell_type": "code",
   "execution_count": 186,
   "metadata": {},
   "outputs": [],
   "source": [
    "def get_callbacks(model_name):\n",
    "    acc = 'val_loss'\n",
    "    acc_mode = 'min'\n",
    "    \n",
    "    checkpoint = ModelCheckpoint(\n",
    "                              fr'./models/{model_name}.h5', \n",
    "                              monitor=acc, \n",
    "#                               verbose=1, \n",
    "                              save_best_only=True, \n",
    "                              mode=acc_mode)\n",
    "    earlystop = EarlyStopping(monitor=acc, mode=acc_mode, verbose=1, patience=4)\n",
    "    reduceLR = ReduceLROnPlateau(monitor = 'val_loss', mode = 'min', patience = 3,\n",
    "                            factor = 0.5, min_lr = 1e-6, verbose = 1)\n",
    "\n",
    "    return [checkpoint, reduceLR, earlystop]"
   ]
  },
  {
   "cell_type": "code",
   "execution_count": 13,
   "metadata": {},
   "outputs": [],
   "source": [
    "def train_model(model_gen, args=None, batch_size=8192, use_saved=False):\n",
    "    os.makedirs('./models', exist_ok=True)\n",
    "    model_name = model_gen.__name__[5:]\n",
    "    global train\n",
    "    \n",
    "    if args:\n",
    "        train, val = args\n",
    "        \n",
    "    if use_saved:\n",
    "        history = joblib.load(fr'./models/{model_name}_history.sav')\n",
    "    else:\n",
    "        callbacks = get_callbacks(model_name)\n",
    "            \n",
    "        history = model_gen().fit(x=[df_2017.store_nbr, df_2017.item_nbr, df_2017.onpromotion],\n",
    "                    y=df_2017.unit_sales,\n",
    "                    batch_size=batch_size,\n",
    "                    epochs=20,\n",
    "                    validation_split=0.3,\n",
    "                    callbacks=callbacks\n",
    "                    )\n",
    "        \n",
    "        history = history.history\n",
    "        joblib.dump(history, fr'./models/{model_name}_history.sav')\n",
    "    \n",
    "    model = load_model(fr'./models/{model_name}.h5')\n",
    "    \n",
    "    return model, history"
   ]
  },
  {
   "cell_type": "markdown",
   "metadata": {},
   "source": [
    "Now we will create our first embeddings model. We will use first embeddings to the features: ```store_nbr```, ```item_nbr``` and ```onpromotion```.\n",
    "Each embeddings will contains 5 numbers and we saw that adding one seperated embeddings as bias improved the results.\n",
    "\n",
    "We will than combine all the embeddings and continue with a regular network"
   ]
  },
  {
   "cell_type": "code",
   "execution_count": 15,
   "metadata": {},
   "outputs": [],
   "source": [
    "def init_model_v1(n_factors=5):\n",
    "    store_in = Input(shape=(1,), dtype='int64', name='store_in')\n",
    "    s = Embedding(len(store_enc.classes_), n_factors, input_length=1, embeddings_regularizer=l2(1e-4),)(store_in)\n",
    "    s = Flatten()(s)\n",
    "    item_in = Input(shape=(1,), dtype='int64', name='item_in')\n",
    "    i = Embedding(len(item_enc.classes_), n_factors, input_length=1, embeddings_regularizer=l2(1e-4),)(item_in)\n",
    "    i = Flatten()(i)\n",
    "    prom_in = Input(shape=(1,), dtype='int64', name='prom_in')\n",
    "    p = Embedding(len(prom_enc.classes_), n_factors, input_length=1, embeddings_regularizer=l2(1e-4),)(prom_in)\n",
    "    p = Flatten()(p)\n",
    "\n",
    "    def create_bias(inp, n_in):\n",
    "        X = Embedding(n_in, 1, input_length=1)(inp)\n",
    "        return Flatten()(X)\n",
    "\n",
    "\n",
    "    sb = create_bias(store_in, len(store_enc.classes_))\n",
    "    ib = create_bias(item_in, len(item_enc.classes_))\n",
    "    pb = create_bias(prom_in, len(prom_enc.classes_))\n",
    "\n",
    "    X = Concatenate()([s, i, p, sb, ib, pb])\n",
    "    X = Dense(64,activation='relu')(X)\n",
    "    X = BatchNormalization()(X)\n",
    "    X = Dropout(0.4)(X)\n",
    "    X = Dense(32,activation='relu')(X)\n",
    "    X = Dropout(0.3)(X)\n",
    "    X = Dense(16,activation='relu')(X)\n",
    "    X = Dense(1,activation='relu')(X)\n",
    "\n",
    "    model = Model([store_in, item_in, prom_in], X)\n",
    "    model.compile(Adam(0.001), loss='mse', metrics=['mae'])\n",
    "    \n",
    "    return model"
   ]
  },
  {
   "cell_type": "code",
   "execution_count": 189,
   "metadata": {},
   "outputs": [
    {
     "name": "stdout",
     "output_type": "stream",
     "text": [
      "Model: \"model_8\"\n",
      "__________________________________________________________________________________________________\n",
      "Layer (type)                    Output Shape         Param #     Connected to                     \n",
      "==================================================================================================\n",
      "store_in (InputLayer)           [(None, 1)]          0                                            \n",
      "__________________________________________________________________________________________________\n",
      "item_in (InputLayer)            [(None, 1)]          0                                            \n",
      "__________________________________________________________________________________________________\n",
      "prom_in (InputLayer)            [(None, 1)]          0                                            \n",
      "__________________________________________________________________________________________________\n",
      "embedding_33 (Embedding)        (None, 1, 5)         270         store_in[0][0]                   \n",
      "__________________________________________________________________________________________________\n",
      "embedding_34 (Embedding)        (None, 1, 5)         20500       item_in[0][0]                    \n",
      "__________________________________________________________________________________________________\n",
      "embedding_35 (Embedding)        (None, 1, 5)         10          prom_in[0][0]                    \n",
      "__________________________________________________________________________________________________\n",
      "embedding_36 (Embedding)        (None, 1, 1)         54          store_in[0][0]                   \n",
      "__________________________________________________________________________________________________\n",
      "embedding_37 (Embedding)        (None, 1, 1)         4100        item_in[0][0]                    \n",
      "__________________________________________________________________________________________________\n",
      "embedding_38 (Embedding)        (None, 1, 1)         2           prom_in[0][0]                    \n",
      "__________________________________________________________________________________________________\n",
      "flatten_12 (Flatten)            (None, 5)            0           embedding_33[0][0]               \n",
      "__________________________________________________________________________________________________\n",
      "flatten_13 (Flatten)            (None, 5)            0           embedding_34[0][0]               \n",
      "__________________________________________________________________________________________________\n",
      "flatten_14 (Flatten)            (None, 5)            0           embedding_35[0][0]               \n",
      "__________________________________________________________________________________________________\n",
      "flatten_15 (Flatten)            (None, 1)            0           embedding_36[0][0]               \n",
      "__________________________________________________________________________________________________\n",
      "flatten_16 (Flatten)            (None, 1)            0           embedding_37[0][0]               \n",
      "__________________________________________________________________________________________________\n",
      "flatten_17 (Flatten)            (None, 1)            0           embedding_38[0][0]               \n",
      "__________________________________________________________________________________________________\n",
      "concatenate_9 (Concatenate)     (None, 18)           0           flatten_12[0][0]                 \n",
      "                                                                 flatten_13[0][0]                 \n",
      "                                                                 flatten_14[0][0]                 \n",
      "                                                                 flatten_15[0][0]                 \n",
      "                                                                 flatten_16[0][0]                 \n",
      "                                                                 flatten_17[0][0]                 \n",
      "__________________________________________________________________________________________________\n",
      "dense_20 (Dense)                (None, 64)           1216        concatenate_9[0][0]              \n",
      "__________________________________________________________________________________________________\n",
      "batch_normalization_4 (BatchNor (None, 64)           256         dense_20[0][0]                   \n",
      "__________________________________________________________________________________________________\n",
      "dropout_14 (Dropout)            (None, 64)           0           batch_normalization_4[0][0]      \n",
      "__________________________________________________________________________________________________\n",
      "dense_21 (Dense)                (None, 32)           2080        dropout_14[0][0]                 \n",
      "__________________________________________________________________________________________________\n",
      "dropout_15 (Dropout)            (None, 32)           0           dense_21[0][0]                   \n",
      "__________________________________________________________________________________________________\n",
      "dense_22 (Dense)                (None, 16)           528         dropout_15[0][0]                 \n",
      "__________________________________________________________________________________________________\n",
      "dense_23 (Dense)                (None, 1)            17          dense_22[0][0]                   \n",
      "==================================================================================================\n",
      "Total params: 29,033\n",
      "Trainable params: 28,905\n",
      "Non-trainable params: 128\n",
      "__________________________________________________________________________________________________\n"
     ]
    }
   ],
   "source": [
    "init_model_v1().summary()"
   ]
  },
  {
   "cell_type": "code",
   "execution_count": 16,
   "metadata": {},
   "outputs": [],
   "source": [
    "model_v1, history_v1 = train_model(init_model_v1, use_saved=True)"
   ]
  },
  {
   "cell_type": "code",
   "execution_count": 166,
   "metadata": {},
   "outputs": [],
   "source": [
    "def visualize_perf(h):\n",
    "    fig, ax = plt.subplots(nrows=1, ncols=2, figsize=(10,5))\n",
    "    fig.subplots_adjust(hspace=0.3, wspace=0.3)\n",
    "    fig.suptitle(f'Model performance over epochs')\n",
    "\n",
    "    for k in ['loss', 'val_loss']:\n",
    "        ax[0].plot(h[k])\n",
    "        ax[0].legend(['train_loss', 'val_loss'])\n",
    "        ax[0].margins(0.02)\n",
    "        ax[0].set_title(f'Loss')\n",
    "\n",
    "    for k in ['mae', 'val_mae']:\n",
    "        ax[1].plot(h[k])\n",
    "        ax[1].legend(['train_mae', 'val_mae'])\n",
    "        ax[1].margins(0.02)\n",
    "        ax[1].set_title(f'MAE')"
   ]
  },
  {
   "cell_type": "code",
   "execution_count": 191,
   "metadata": {},
   "outputs": [
    {
     "data": {
      "image/png": "[encoded data removed]",
      "text/plain": [
       "<Figure size 720x360 with 2 Axes>"
      ]
     },
     "metadata": {
      "needs_background": "light"
     },
     "output_type": "display_data"
    }
   ],
   "source": [
    "visualize_perf(history_v1)"
   ]
  },
  {
   "cell_type": "code",
   "execution_count": 192,
   "metadata": {},
   "outputs": [
    {
     "name": "stdout",
     "output_type": "stream",
     "text": [
      "Got MAE of 4.8233 on the train\n"
     ]
    }
   ],
   "source": [
    "train_y_pred = model_v1.predict([df_2017.store_nbr, df_2017.item_nbr, df_2017.onpromotion])\n",
    "train_mae = mean_absolute_error(df_2017.unit_sales, train_y_pred)\n",
    "print(f'Got MAE of {train_mae:.4f} on the train')"
   ]
  },
  {
   "cell_type": "code",
   "execution_count": 193,
   "metadata": {},
   "outputs": [],
   "source": [
    "test_x = [test.store_nbr, test.item_nbr, test.onpromotion]\n",
    "test_y_pred = model_v1.predict(test_x)"
   ]
  },
  {
   "cell_type": "code",
   "execution_count": 194,
   "metadata": {},
   "outputs": [],
   "source": [
    "create_submission(test_y_pred, 'model_v1')"
   ]
  },
  {
   "attachments": {
    "76801bbb-c435-49d4-87f2-81565ae8dcb7.jpeg": {
     "image/jpeg": "[encoded data removed]"
    }
   },
   "cell_type": "markdown",
   "metadata": {},
   "source": [
    "![model_v1.jpeg](attachment:76801bbb-c435-49d4-87f2-81565ae8dcb7.jpeg)"
   ]
  },
  {
   "cell_type": "markdown",
   "metadata": {},
   "source": [
    "## e. Adding more features and a time-series approach"
   ]
  },
  {
   "cell_type": "markdown",
   "metadata": {},
   "source": [
    "Now we will use LSTM network to better model the time series part of the problem.\n",
    "We will use a lookback of 4.\n",
    "to combine the embeddings layers with the lstm, each timeseries will contain the discrete values of the fields. Then it will go through the embeddings layer generating for each discrete value its corresponding five length embeddings."
   ]
  },
  {
   "cell_type": "code",
   "execution_count": 208,
   "metadata": {},
   "outputs": [
    {
     "data": {
      "text/plain": [
       "((23808258, 4, 3), (23808258,))"
      ]
     },
     "execution_count": 208,
     "metadata": {},
     "output_type": "execute_result"
    }
   ],
   "source": [
    "def prepare_data_lstm(df, look_back=4, with_y=True):\n",
    "    x = np.ascontiguousarray(df[['store_nbr','item_nbr','onpromotion']].values)\n",
    "    as_strided = np.lib.stride_tricks.as_strided\n",
    "    l0, l1 = x.shape\n",
    "    s0, s1 = x.strides\n",
    "    x = as_strided(x, (l0-look_back+1,look_back,l1), (s0, s1 * l1, s1))\n",
    "    \n",
    "    if with_y:\n",
    "        y = df['unit_sales'].iloc[look_back-1:]\n",
    "        return x, y\n",
    "    \n",
    "    return x\n",
    "    \n",
    "look_back = 4\n",
    "x, y = prepare_data_lstm(df_2017, look_back=look_back)\n",
    "x.shape, y.shape"
   ]
  },
  {
   "cell_type": "code",
   "execution_count": 170,
   "metadata": {},
   "outputs": [],
   "source": [
    "def init_lstm_model(look_back=4, n_factors=5):\n",
    "    \n",
    "    store_in = Input(shape=(look_back,), dtype='int64', name='store_in')\n",
    "    s = Embedding(len(store_enc.classes_), n_factors, input_length=look_back, embeddings_regularizer=l2(1e-4),)(store_in)\n",
    "    item_in = Input(shape=(look_back,), dtype='int64', name='item_in')\n",
    "    i = Embedding(len(item_enc.classes_), n_factors, input_length=look_back, embeddings_regularizer=l2(1e-4),)(item_in)\n",
    "    prom_in = Input(shape=(look_back,), dtype='int64', name='prom_in')\n",
    "    p = Embedding(len(prom_enc.classes_), n_factors, input_length=look_back, embeddings_regularizer=l2(1e-4),)(prom_in)\n",
    "    \n",
    "    X = Concatenate(axis=2)([s, i, p])\n",
    "    X = LSTM(32, input_shape=(look_back, n_factors))(X)\n",
    "    X = Dropout(0.2)(X)\n",
    "    X = Dense(32)(X)\n",
    "    X = Dropout(0.3)(X)\n",
    "    X = Dense(1)(X)\n",
    "    \n",
    "    model = Model(inputs=[store_in, item_in, prom_in], outputs=X)\n",
    "    model.compile(loss = 'mse', optimizer='adam', metrics=['mae'])\n",
    "    \n",
    "    return model"
   ]
  },
  {
   "cell_type": "code",
   "execution_count": 171,
   "metadata": {},
   "outputs": [
    {
     "name": "stdout",
     "output_type": "stream",
     "text": [
      "Model: \"model_7\"\n",
      "__________________________________________________________________________________________________\n",
      "Layer (type)                    Output Shape         Param #     Connected to                     \n",
      "==================================================================================================\n",
      "store_in (InputLayer)           [(None, 4)]          0                                            \n",
      "__________________________________________________________________________________________________\n",
      "item_in (InputLayer)            [(None, 4)]          0                                            \n",
      "__________________________________________________________________________________________________\n",
      "prom_in (InputLayer)            [(None, 4)]          0                                            \n",
      "__________________________________________________________________________________________________\n",
      "embedding_30 (Embedding)        (None, 4, 5)         270         store_in[0][0]                   \n",
      "__________________________________________________________________________________________________\n",
      "embedding_31 (Embedding)        (None, 4, 5)         20500       item_in[0][0]                    \n",
      "__________________________________________________________________________________________________\n",
      "embedding_32 (Embedding)        (None, 4, 5)         10          prom_in[0][0]                    \n",
      "__________________________________________________________________________________________________\n",
      "concatenate_8 (Concatenate)     (None, 4, 15)        0           embedding_30[0][0]               \n",
      "                                                                 embedding_31[0][0]               \n",
      "                                                                 embedding_32[0][0]               \n",
      "__________________________________________________________________________________________________\n",
      "lstm_5 (LSTM)                   (None, 32)           6144        concatenate_8[0][0]              \n",
      "__________________________________________________________________________________________________\n",
      "dropout_12 (Dropout)            (None, 32)           0           lstm_5[0][0]                     \n",
      "__________________________________________________________________________________________________\n",
      "dense_18 (Dense)                (None, 32)           1056        dropout_12[0][0]                 \n",
      "__________________________________________________________________________________________________\n",
      "dropout_13 (Dropout)            (None, 32)           0           dense_18[0][0]                   \n",
      "__________________________________________________________________________________________________\n",
      "dense_19 (Dense)                (None, 1)            33          dropout_13[0][0]                 \n",
      "==================================================================================================\n",
      "Total params: 28,013\n",
      "Trainable params: 28,013\n",
      "Non-trainable params: 0\n",
      "__________________________________________________________________________________________________\n"
     ]
    }
   ],
   "source": [
    "lstm_model = init_lstm_model(look_back)\n",
    "lstm_model.summary()"
   ]
  },
  {
   "cell_type": "code",
   "execution_count": 82,
   "metadata": {},
   "outputs": [
    {
     "name": "stdout",
     "output_type": "stream",
     "text": [
      "Epoch 1/20\n",
      "130202/130202 [==============================] - 754s 6ms/step - loss: 375.5840 - mae: 4.8835 - val_loss: 437.0956 - val_mae: 5.0741 - lr: 0.0010\n",
      "Epoch 2/20\n",
      "130202/130202 [==============================] - 766s 6ms/step - loss: 360.3687 - mae: 4.7977 - val_loss: 465.7905 - val_mae: 5.1037 - lr: 0.0010\n",
      "Epoch 3/20\n",
      "130202/130202 [==============================] - 762s 6ms/step - loss: 356.7563 - mae: 4.7695 - val_loss: 493.5514 - val_mae: 5.0674 - lr: 0.0010\n",
      "Epoch 4/20\n",
      "130197/130202 [============================>.] - ETA: 0s - loss: 354.6024 - mae: 4.7708\n",
      "Epoch 00004: ReduceLROnPlateau reducing learning rate to 0.0005000000237487257.\n",
      "130202/130202 [==============================] - 766s 6ms/step - loss: 354.5935 - mae: 4.7708 - val_loss: 539.0582 - val_mae: 5.2827 - lr: 0.0010\n",
      "Epoch 5/20\n",
      "130202/130202 [==============================] - 767s 6ms/step - loss: 350.9425 - mae: 4.7167 - val_loss: 568.4625 - val_mae: 5.3324 - lr: 5.0000e-04\n",
      "Epoch 00005: early stopping\n"
     ]
    }
   ],
   "source": [
    "inputs = [x[:,:,0], x[:,:,1], x[:,:,2]]\n",
    "\n",
    "history = lstm_model.fit(x=inputs,\n",
    "                         y=y,\n",
    "                         batch_size=128,\n",
    "                         epochs=20,\n",
    "                         validation_split=0.3,\n",
    "                         callbacks=get_callbacks('lstm'))"
   ]
  },
  {
   "cell_type": "code",
   "execution_count": 87,
   "metadata": {},
   "outputs": [
    {
     "data": {
      "image/png": "[encoded data removed]",
      "text/plain": [
       "<Figure size 720x360 with 2 Axes>"
      ]
     },
     "metadata": {
      "needs_background": "light"
     },
     "output_type": "display_data"
    }
   ],
   "source": [
    "visualize_perf(history.history)"
   ]
  },
  {
   "cell_type": "code",
   "execution_count": 175,
   "metadata": {},
   "outputs": [
    {
     "name": "stdout",
     "output_type": "stream",
     "text": [
      "Got MAE of 4.7828 on the train\n"
     ]
    }
   ],
   "source": [
    "train_y_pred = lstm_model.predict([x[:,:,0], x[:,:,1], x[:,:,2]])\n",
    "train_mae = mean_absolute_error(y, train_y_pred)\n",
    "print(f'Got MAE of {train_mae:.4f} on the train')"
   ]
  },
  {
   "cell_type": "code",
   "execution_count": 214,
   "metadata": {},
   "outputs": [],
   "source": [
    "test_x = prepare_data_lstm(pd.concat([df_2017.tail(3), test], axis=0), with_y=False)\n",
    "test_y_pred = lstm_model.predict([test_x[:,:,0], test_x[:,:,1], test_x[:,:,2]])"
   ]
  },
  {
   "cell_type": "code",
   "execution_count": 215,
   "metadata": {},
   "outputs": [],
   "source": [
    "create_submission(test_y_pred, 'lstm')"
   ]
  },
  {
   "attachments": {
    "e26d0e83-d692-4b9c-a70f-87f17d4d073b.jpeg": {
     "image/jpeg": "[encoded data removed]"
    }
   },
   "cell_type": "markdown",
   "metadata": {},
   "source": [
    "![lstm.jpeg](attachment:e26d0e83-d692-4b9c-a70f-87f17d4d073b.jpeg)"
   ]
  },
  {
   "cell_type": "markdown",
   "metadata": {},
   "source": [
    "## f. Interesting insights from embeddings"
   ]
  },
  {
   "cell_type": "markdown",
   "metadata": {},
   "source": [
    "Here we will try to elucidate useful information from the embeddings we calculated from the store and item ids."
   ]
  },
  {
   "cell_type": "markdown",
   "metadata": {},
   "source": [
    "First we will take the embeddings layers from the previous model with its weights and use it to calculate the embeddings of each store and item in the train dataset."
   ]
  },
  {
   "cell_type": "code",
   "execution_count": 17,
   "metadata": {},
   "outputs": [
    {
     "name": "stdout",
     "output_type": "stream",
     "text": [
      "Model: \"model\"\n",
      "__________________________________________________________________________________________________\n",
      "Layer (type)                    Output Shape         Param #     Connected to                     \n",
      "==================================================================================================\n",
      "store_in (InputLayer)           [(None, 1)]          0                                            \n",
      "__________________________________________________________________________________________________\n",
      "item_in (InputLayer)            [(None, 1)]          0                                            \n",
      "__________________________________________________________________________________________________\n",
      "prom_in (InputLayer)            [(None, 1)]          0                                            \n",
      "__________________________________________________________________________________________________\n",
      "embedding_39 (Embedding)        (None, 1, 5)         270         store_in[0][0]                   \n",
      "__________________________________________________________________________________________________\n",
      "embedding_40 (Embedding)        (None, 1, 5)         20500       item_in[0][0]                    \n",
      "__________________________________________________________________________________________________\n",
      "embedding_41 (Embedding)        (None, 1, 5)         10          prom_in[0][0]                    \n",
      "==================================================================================================\n",
      "Total params: 20,780\n",
      "Trainable params: 20,780\n",
      "Non-trainable params: 0\n",
      "__________________________________________________________________________________________________\n"
     ]
    }
   ],
   "source": [
    "embedding_creator = Model(\n",
    "    inputs = [l.input for l in model_v1.layers[:3]],\n",
    "    outputs = [l.output for l in model_v1.layers[3:6]]\n",
    ")\n",
    "\n",
    "embedding_creator.summary()"
   ]
  },
  {
   "cell_type": "code",
   "execution_count": 18,
   "metadata": {},
   "outputs": [],
   "source": [
    "s = df_2017['store_nbr'].values\n",
    "i = df_2017['item_nbr'].values\n",
    "m = df_2017['onpromotion'].values"
   ]
  },
  {
   "cell_type": "code",
   "execution_count": 19,
   "metadata": {},
   "outputs": [],
   "source": [
    "s_e, i_e, p_e = embedding_creator.predict([s, i, m])"
   ]
  },
  {
   "cell_type": "code",
   "execution_count": 20,
   "metadata": {},
   "outputs": [],
   "source": [
    "target = df_2017['unit_sales'].values"
   ]
  },
  {
   "cell_type": "code",
   "execution_count": 21,
   "metadata": {},
   "outputs": [],
   "source": [
    "s_e = s_e.reshape(s_e.shape[0],-1)\n",
    "i_e = i_e.reshape(i_e.shape[0],-1)\n",
    "p_e = p_e.reshape(p_e.shape[0],-1)"
   ]
  },
  {
   "cell_type": "markdown",
   "metadata": {},
   "source": [
    "Now we will plot the sales values as a function of the embeddings values in order to try to see the correlation between the two."
   ]
  },
  {
   "cell_type": "code",
   "execution_count": 22,
   "metadata": {},
   "outputs": [
    {
     "data": {
      "image/png": "[encoded data removed]",
      "text/plain": [
       "<Figure size 3600x864 with 10 Axes>"
      ]
     },
     "metadata": {
      "needs_background": "light"
     },
     "output_type": "display_data"
    }
   ],
   "source": [
    "fig, ax = plt.subplots(nrows=2, ncols=5, figsize=(10*5,6*2), sharey=True)\n",
    "fig.subplots_adjust(hspace=0.1, wspace=0.1)\n",
    "fig.suptitle(f'Correlation between embeddings and unit sales', fontsize = 20)\n",
    "\n",
    "xlabel = ['store', 'item']\n",
    "for i, ef in enumerate([s_e, i_e]):\n",
    "    for j in range(5):\n",
    "        ax[i][j].plot(ef[:,j], target, '.')\n",
    "        ax[i][j].set_xlabel(f'{xlabel[i]}{j}')\n",
    "        ax[i][j].set_ylabel('unit_sales')\n",
    "        \n",
    "plt.show()"
   ]
  },
  {
   "cell_type": "markdown",
   "metadata": {},
   "source": [
    "In the above plot, the first row plots the store's embeddings and the second row plots the item's embeddings. We will number the embeddings from zero to four from left to right as the embeddings contains five places.\n",
    "\n",
    "We will now note the correlations that can be seen from the above plots:\n",
    "- Negative correlation: store2, store3, item2.\n",
    "- Positive correlation: store4, item1.\n",
    "- item0, item3 and item4 gets values arround 0 the sales are very likely to be high."
   ]
  },
  {
   "cell_type": "markdown",
   "metadata": {},
   "source": [
    "## g. Using embeddings as a “feature extractor” for classical ML"
   ]
  },
  {
   "cell_type": "markdown",
   "metadata": {},
   "source": [
    "Here we will use the embeddings layers as \"feature extractor\". We will convert the features to their embeddings representation and feed it to a Decision Tree Regressor"
   ]
  },
  {
   "cell_type": "code",
   "execution_count": 131,
   "metadata": {},
   "outputs": [
    {
     "data": {
      "text/plain": [
       "DecisionTreeRegressor()"
      ]
     },
     "execution_count": 131,
     "metadata": {},
     "output_type": "execute_result"
    }
   ],
   "source": [
    "from sklearn.tree import DecisionTreeRegressor\n",
    "\n",
    "s_e, i_e, p_e = embedding_creator.predict([s, i, m])\n",
    "target = df_2017['unit_sales'].values\n",
    "\n",
    "embed_input = np.concatenate([s_e, i_e, p_e], axis=1)\n",
    "embed_input = embed_input.reshape(embed_input.shape[0], -1)\n",
    "\n",
    "dtr_model = DecisionTreeRegressor()\n",
    "dtr_model.fit(embed_input, target)\n"
   ]
  },
  {
   "cell_type": "code",
   "execution_count": 185,
   "metadata": {},
   "outputs": [
    {
     "name": "stdout",
     "output_type": "stream",
     "text": [
      "Got score of 0.4180 according to the decision tree regression score function on the train\n"
     ]
    }
   ],
   "source": [
    "train_score = dtr_model.score(embed_input, target)\n",
    "print(f'Got score of {train_score:.4f} according to the decision tree regression score function on the train')"
   ]
  },
  {
   "cell_type": "code",
   "execution_count": 178,
   "metadata": {},
   "outputs": [
    {
     "name": "stdout",
     "output_type": "stream",
     "text": [
      "Got MAE of 4.0974 on the train\n"
     ]
    }
   ],
   "source": [
    "train_y_pred = dtr_model.predict(embed_input)\n",
    "train_mae = mean_absolute_error(target, train_y_pred)\n",
    "print(f'Got MAE of {train_mae:.4f} on the train')"
   ]
  },
  {
   "cell_type": "markdown",
   "metadata": {},
   "source": [
    "Generating results of the test to submit to kaggle"
   ]
  },
  {
   "cell_type": "code",
   "execution_count": 183,
   "metadata": {},
   "outputs": [],
   "source": [
    "test_x = [test.store_nbr, test.item_nbr, test.onpromotion]\n",
    "test_s_e, test_i_e, test_p_e = embedding_creator(test_x)\n",
    "test_x = np.concatenate([test_s_e, test_i_e, test_p_e], axis=1)\n",
    "test_x = test_x.reshape(test_x.shape[0], -1)\n",
    "\n",
    "test_y_pred = dtr_model.predict(test_x)"
   ]
  },
  {
   "cell_type": "code",
   "execution_count": 184,
   "metadata": {},
   "outputs": [],
   "source": [
    "create_submission(test_y_pred, 'dtr_embed')"
   ]
  },
  {
   "attachments": {
    "271f567d-1e14-493a-b0a3-60dccb2fb3dc.jpeg": {
     "image/jpeg": "[encoded data removed]"
    }
   },
   "cell_type": "markdown",
   "metadata": {},
   "source": [
    "![dtr_embed.jpeg](attachment:271f567d-1e14-493a-b0a3-60dccb2fb3dc.jpeg)"
   ]
  }
 ],
 "metadata": {
  "kernelspec": {
   "display_name": "Python (tf-env)",
   "language": "python",
   "name": "tf-env"
  },
  "language_info": {
   "codemirror_mode": {
    "name": "ipython",
    "version": 3
   },
   "file_extension": ".py",
   "mimetype": "text/x-python",
   "name": "python",
   "nbconvert_exporter": "python",
   "pygments_lexer": "ipython3",
   "version": "3.8.6"
  }
 },
 "nbformat": 4,
 "nbformat_minor": 4
}
